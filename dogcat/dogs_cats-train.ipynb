{
 "cells": [
  {
   "cell_type": "markdown",
   "metadata": {},
   "source": [
    "### CNN Model"
   ]
  },
  {
   "cell_type": "code",
   "execution_count": 9,
   "metadata": {},
   "outputs": [],
   "source": [
    "import os\n",
    "import numpy as np\n",
    "import matplotlib.pyplot as plt\n",
    "from keras.models import Sequential\n",
    "from keras.layers import Conv2D,MaxPooling2D\n",
    "from keras.layers import Activation,Dropout,Flatten,Dense\n",
    "from keras.utils import np_utils\n",
    "from keras.callbacks import EarlyStopping\n",
    "from keras.callbacks import CSVLogger"
   ]
  },
  {
   "cell_type": "code",
   "execution_count": 10,
   "metadata": {},
   "outputs": [],
   "source": [
    "w=56\n",
    "work_dir='data/dogs_cats'\n",
    "npy_data_base='dogs_cats-data'\n",
    "npy_labels_base='dogs_cats-labels'\n",
    "classes=['dogs','cats']\n",
    "num_classes=len(classes)\n",
    "\n",
    "weight_file=\"dogs_cats-weight-w{0}.hd5\".format(w)\n",
    "model_file=\"dogs_cats-model-w{0}.json\".format(w)\n",
    "history_file=\"dogs_cats-history-w{0}.csv\".format(w)"
   ]
  },
  {
   "cell_type": "code",
   "execution_count": 11,
   "metadata": {},
   "outputs": [
    {
     "name": "stdout",
     "output_type": "stream",
     "text": [
      "(2000, 56, 56, 3)\n",
      "(2000, 2)\n",
      "(400, 56, 56, 3)\n",
      "(400, 2)\n",
      "image_size: 56 56\n",
      "image_channels: 3\n"
     ]
    }
   ],
   "source": [
    "mode=\"train\"\n",
    "npy_data_file=\"{0}/{1}-{2}-w{3}.npy\".format(work_dir,npy_data_base,mode,w)\n",
    "npy_labels_file=\"{0}/{1}-{2}-w{3}.npy\".format(work_dir,npy_labels_base,mode,w)\n",
    "X_train=np.load(npy_data_file).astype(\"float16\")\n",
    "X_train/=255\n",
    "y_train=np.load(npy_labels_file)\n",
    "y_train=np_utils.to_categorical(y_train,num_classes)\n",
    "\n",
    "mode=\"test\"\n",
    "npy_data_file=\"{0}/{1}-{2}-w{3}.npy\".format(work_dir,npy_data_base,mode,w)\n",
    "npy_labels_file=\"{0}/{1}-{2}-w{3}.npy\".format(work_dir,npy_labels_base,mode,w)\n",
    "X_test=np.load(npy_data_file).astype(\"float16\")\n",
    "X_test/=255\n",
    "y_test=np.load(npy_labels_file)\n",
    "y_test=np_utils.to_categorical(y_test,num_classes)\n",
    "\n",
    "print( X_train.shape )\n",
    "print( y_train.shape )\n",
    "print( X_test.shape )\n",
    "print( y_test.shape )\n",
    "img_rows=X_train.shape[1]\n",
    "img_cols=X_train.shape[2]\n",
    "img_channels=X_train.shape[3]\n",
    "print(\"image_size:\", img_rows, img_cols)\n",
    "print(\"image_channels:\", img_channels)"
   ]
  },
  {
   "cell_type": "code",
   "execution_count": 12,
   "metadata": {
    "scrolled": true
   },
   "outputs": [
    {
     "name": "stdout",
     "output_type": "stream",
     "text": [
      "_________________________________________________________________\n",
      "Layer (type)                 Output Shape              Param #   \n",
      "=================================================================\n",
      "conv2d_4 (Conv2D)            (None, 56, 56, 16)        448       \n",
      "_________________________________________________________________\n",
      "max_pooling2d_4 (MaxPooling2 (None, 28, 28, 16)        0         \n",
      "_________________________________________________________________\n",
      "dropout_5 (Dropout)          (None, 28, 28, 16)        0         \n",
      "_________________________________________________________________\n",
      "conv2d_5 (Conv2D)            (None, 28, 28, 16)        2320      \n",
      "_________________________________________________________________\n",
      "max_pooling2d_5 (MaxPooling2 (None, 14, 14, 16)        0         \n",
      "_________________________________________________________________\n",
      "dropout_6 (Dropout)          (None, 14, 14, 16)        0         \n",
      "_________________________________________________________________\n",
      "conv2d_6 (Conv2D)            (None, 14, 14, 32)        4640      \n",
      "_________________________________________________________________\n",
      "max_pooling2d_6 (MaxPooling2 (None, 7, 7, 32)          0         \n",
      "_________________________________________________________________\n",
      "dropout_7 (Dropout)          (None, 7, 7, 32)          0         \n",
      "_________________________________________________________________\n",
      "flatten_2 (Flatten)          (None, 1568)              0         \n",
      "_________________________________________________________________\n",
      "dense_3 (Dense)              (None, 64)                100416    \n",
      "_________________________________________________________________\n",
      "dropout_8 (Dropout)          (None, 64)                0         \n",
      "_________________________________________________________________\n",
      "dense_4 (Dense)              (None, 2)                 130       \n",
      "=================================================================\n",
      "Total params: 107,954\n",
      "Trainable params: 107,954\n",
      "Non-trainable params: 0\n",
      "_________________________________________________________________\n"
     ]
    }
   ],
   "source": [
    "input_shape=(img_rows,img_cols,img_channels)\n",
    "model=Sequential()\n",
    "model.add(Conv2D(16, (3,3), activation='relu', padding='same',\n",
    "                 input_shape=input_shape))\n",
    "model.add(MaxPooling2D(pool_size=(2,2)))\n",
    "model.add(Dropout(0.25))\n",
    "model.add(Conv2D(16, (3,3), activation='relu', padding='same'))\n",
    "model.add(MaxPooling2D(pool_size=(2,2)))\n",
    "model.add(Dropout(0.25))\n",
    "model.add(Conv2D(32, (3,3), activation='relu', padding='same'))\n",
    "model.add(MaxPooling2D(pool_size=(2,2)))\n",
    "model.add(Dropout(0.25))\n",
    "model.add(Flatten())\n",
    "model.add(Dense(64, activation='relu'))\n",
    "model.add(Dropout(0.25))\n",
    "model.add(Dense(num_classes, activation='softmax'))\n",
    "model.summary()"
   ]
  },
  {
   "cell_type": "code",
   "execution_count": 16,
   "metadata": {},
   "outputs": [
    {
     "name": "stdout",
     "output_type": "stream",
     "text": [
      "Train on 1600 samples, validate on 400 samples\n",
      "Epoch 1/40\n",
      "1600/1600 [==============================] - 3s 2ms/step - loss: 0.4769 - acc: 0.7800 - val_loss: 0.6166 - val_acc: 0.6975\n",
      "Epoch 2/40\n",
      "1600/1600 [==============================] - 2s 1ms/step - loss: 0.4109 - acc: 0.8163 - val_loss: 0.8681 - val_acc: 0.5400\n",
      "Epoch 3/40\n",
      "1600/1600 [==============================] - 2s 1ms/step - loss: 0.4015 - acc: 0.8075 - val_loss: 0.7769 - val_acc: 0.5575\n",
      "Epoch 4/40\n",
      "1600/1600 [==============================] - 2s 1ms/step - loss: 0.4113 - acc: 0.8075 - val_loss: 0.6036 - val_acc: 0.7000\n",
      "Epoch 5/40\n",
      "1600/1600 [==============================] - 2s 1ms/step - loss: 0.3915 - acc: 0.8250 - val_loss: 0.7168 - val_acc: 0.6325\n",
      "Epoch 6/40\n",
      "1600/1600 [==============================] - 2s 1ms/step - loss: 0.3884 - acc: 0.8231 - val_loss: 0.9164 - val_acc: 0.5100\n",
      "Epoch 7/40\n",
      "1600/1600 [==============================] - 2s 1ms/step - loss: 0.4025 - acc: 0.8119 - val_loss: 0.5950 - val_acc: 0.7175\n",
      "Epoch 8/40\n",
      "1600/1600 [==============================] - 2s 1ms/step - loss: 0.3759 - acc: 0.8237 - val_loss: 0.6444 - val_acc: 0.6775\n",
      "Epoch 9/40\n",
      "1600/1600 [==============================] - 2s 1ms/step - loss: 0.3916 - acc: 0.8212 - val_loss: 0.5914 - val_acc: 0.7000\n",
      "Epoch 10/40\n",
      "1600/1600 [==============================] - 2s 1ms/step - loss: 0.3759 - acc: 0.8200 - val_loss: 0.5826 - val_acc: 0.7175\n",
      "Epoch 11/40\n",
      "1600/1600 [==============================] - 2s 1ms/step - loss: 0.3706 - acc: 0.8337 - val_loss: 0.8015 - val_acc: 0.6050\n",
      "Epoch 12/40\n",
      "1600/1600 [==============================] - 2s 1ms/step - loss: 0.3689 - acc: 0.8344 - val_loss: 0.6752 - val_acc: 0.6575\n",
      "Epoch 13/40\n",
      "1600/1600 [==============================] - 2s 1ms/step - loss: 0.3696 - acc: 0.8294 - val_loss: 0.5644 - val_acc: 0.7225\n",
      "Epoch 14/40\n",
      "1600/1600 [==============================] - 2s 1ms/step - loss: 0.3583 - acc: 0.8350 - val_loss: 0.8374 - val_acc: 0.5525\n",
      "Epoch 15/40\n",
      "1600/1600 [==============================] - 2s 1ms/step - loss: 0.3515 - acc: 0.8500 - val_loss: 0.6114 - val_acc: 0.7000\n",
      "Epoch 16/40\n",
      "1600/1600 [==============================] - 2s 1ms/step - loss: 0.3401 - acc: 0.8556 - val_loss: 0.7328 - val_acc: 0.6450\n",
      "Epoch 17/40\n",
      "1600/1600 [==============================] - 2s 1ms/step - loss: 0.3489 - acc: 0.8481 - val_loss: 0.6962 - val_acc: 0.6400\n",
      "Epoch 00017: early stopping\n",
      "Wall time: 35.9 s\n"
     ]
    }
   ],
   "source": [
    "%%time\n",
    "n_epochs=40\n",
    "val_split=0.2\n",
    "batch_size=128\n",
    "es=EarlyStopping(monitor='val_loss',patience=4,verbose=1)\n",
    "cl=CSVLogger(history_file)\n",
    "model.compile(loss='categorical_crossentropy', optimizer='rmsprop',\n",
    "              metrics=['accuracy'])\n",
    "fit_log=model.fit(X_train, y_train, batch_size=batch_size,\n",
    "                  epochs=n_epochs, validation_split=val_split,\n",
    "                  callbacks=[cl, es])\n",
    "#fit_log=model.fit(X_train, y_train, batch_size=batch_size,\n",
    "#                  epochs=n_epochs, validation_split=val_split,\n",
    "#                  callbacks=[cl])"
   ]
  },
  {
   "cell_type": "code",
   "execution_count": 17,
   "metadata": {},
   "outputs": [
    {
     "ename": "NameError",
     "evalue": "name 'fit_log' is not defined",
     "output_type": "error",
     "traceback": [
      "\u001b[1;31m---------------------------------------------------------------------------\u001b[0m",
      "\u001b[1;31mNameError\u001b[0m                                 Traceback (most recent call last)",
      "\u001b[1;32m<ipython-input-17-03ff8c102ab2>\u001b[0m in \u001b[0;36m<module>\u001b[1;34m\u001b[0m\n\u001b[1;32m----> 1\u001b[1;33m \u001b[0mplt\u001b[0m\u001b[1;33m.\u001b[0m\u001b[0mplot\u001b[0m\u001b[1;33m(\u001b[0m\u001b[0mfit_log\u001b[0m\u001b[1;33m.\u001b[0m\u001b[0mhistory\u001b[0m\u001b[1;33m[\u001b[0m\u001b[1;34m'loss'\u001b[0m\u001b[1;33m]\u001b[0m\u001b[1;33m)\u001b[0m\u001b[1;33m\u001b[0m\u001b[1;33m\u001b[0m\u001b[0m\n\u001b[0m\u001b[0;32m      2\u001b[0m \u001b[0mplt\u001b[0m\u001b[1;33m.\u001b[0m\u001b[0mplot\u001b[0m\u001b[1;33m(\u001b[0m\u001b[0mfit_log\u001b[0m\u001b[1;33m.\u001b[0m\u001b[0mhistory\u001b[0m\u001b[1;33m[\u001b[0m\u001b[1;34m'val_loss'\u001b[0m\u001b[1;33m]\u001b[0m\u001b[1;33m)\u001b[0m\u001b[1;33m\u001b[0m\u001b[1;33m\u001b[0m\u001b[0m\n\u001b[0;32m      3\u001b[0m \u001b[0mplt\u001b[0m\u001b[1;33m.\u001b[0m\u001b[0mtitle\u001b[0m\u001b[1;33m(\u001b[0m\u001b[1;34m'Model Loss'\u001b[0m\u001b[1;33m)\u001b[0m\u001b[1;33m\u001b[0m\u001b[1;33m\u001b[0m\u001b[0m\n\u001b[0;32m      4\u001b[0m \u001b[0mplt\u001b[0m\u001b[1;33m.\u001b[0m\u001b[0mylabel\u001b[0m\u001b[1;33m(\u001b[0m\u001b[1;34m'Loss'\u001b[0m\u001b[1;33m)\u001b[0m\u001b[1;33m\u001b[0m\u001b[1;33m\u001b[0m\u001b[0m\n\u001b[0;32m      5\u001b[0m \u001b[0mplt\u001b[0m\u001b[1;33m.\u001b[0m\u001b[0mxlabel\u001b[0m\u001b[1;33m(\u001b[0m\u001b[1;34m'Epoch'\u001b[0m\u001b[1;33m)\u001b[0m\u001b[1;33m\u001b[0m\u001b[1;33m\u001b[0m\u001b[0m\n",
      "\u001b[1;31mNameError\u001b[0m: name 'fit_log' is not defined"
     ]
    }
   ],
   "source": [
    "plt.plot(fit_log.history['loss'])\n",
    "plt.plot(fit_log.history['val_loss'])\n",
    "plt.title('Model Loss')\n",
    "plt.ylabel('Loss')\n",
    "plt.xlabel('Epoch')\n",
    "plt.legend(['train','valid'], loc='best')\n",
    "plt.show()\n",
    "\n",
    "plt.plot(fit_log.history['acc'])\n",
    "plt.plot(fit_log.history['val_acc'])\n",
    "plt.title('Model Accuracy')\n",
    "plt.ylabel('Accuracy')\n",
    "plt.xlabel('Epoch')\n",
    "plt.legend(['train','valid'], loc='best')\n",
    "plt.show()"
   ]
  },
  {
   "cell_type": "code",
   "execution_count": 15,
   "metadata": {},
   "outputs": [
    {
     "data": {
      "image/png": "[encoded data removed]",
      "text/plain": [
       "<Figure size 432x288 with 1 Axes>"
      ]
     },
     "metadata": {
      "needs_background": "light"
     },
     "output_type": "display_data"
    },
    {
     "data": {
      "image/png": "[encoded data removed]",
      "text/plain": [
       "<Figure size 432x288 with 1 Axes>"
      ]
     },
     "metadata": {
      "needs_background": "light"
     },
     "output_type": "display_data"
    }
   ],
   "source": [
    "h=np.loadtxt(history_file,delimiter=',',skiprows=1)\n",
    "epoch=h[:,0]\n",
    "acc=h[:,1]\n",
    "loss=h[:,2]\n",
    "val_acc=h[:,3]\n",
    "val_loss=h[:,4]\n",
    "\n",
    "plt.plot(epoch,loss)\n",
    "plt.plot(epoch,val_loss)\n",
    "plt.title('Model Loss')\n",
    "plt.ylabel('Loss')\n",
    "plt.xlabel('Epoch')\n",
    "plt.legend(['train','valid'], loc='best')\n",
    "plt.show()\n",
    "\n",
    "plt.plot(epoch,acc)\n",
    "plt.plot(epoch,val_acc)\n",
    "plt.title('Model Accuracy')\n",
    "plt.ylabel('Accuracy')\n",
    "plt.xlabel('Epoch')\n",
    "plt.legend(['train','valid'], loc='best')\n",
    "plt.show()"
   ]
  },
  {
   "cell_type": "code",
   "execution_count": 18,
   "metadata": {},
   "outputs": [
    {
     "name": "stdout",
     "output_type": "stream",
     "text": [
      "loss= 0.5848943448066711\n",
      "accuracy= 0.7175\n"
     ]
    }
   ],
   "source": [
    "score=model.evaluate(X_test, y_test, verbose=0)\n",
    "print('loss=', score[0])\n",
    "print('accuracy=', score[1])"
   ]
  },
  {
   "cell_type": "code",
   "execution_count": 19,
   "metadata": {},
   "outputs": [
    {
     "name": "stdout",
     "output_type": "stream",
     "text": [
      "OK\n"
     ]
    }
   ],
   "source": [
    "model.save_weights(weight_file)\n",
    "json_str=model.to_json()\n",
    "with open(model_file,\"w\") as f:\n",
    "    f.write(json_str)\n",
    "\n",
    "ok=1\n",
    "if not os.path.exists(weight_file):\n",
    "    ok=0\n",
    "if not os.path.exists(model_file):\n",
    "    ok=0\n",
    "if ok==1:\n",
    "    print(\"OK\")"
   ]
  },
  {
   "cell_type": "code",
   "execution_count": null,
   "metadata": {},
   "outputs": [],
   "source": []
  }
 ],
 "metadata": {
  "kernelspec": {
   "display_name": "Python 3",
   "language": "python",
   "name": "python3"
  },
  "language_info": {
   "codemirror_mode": {
    "name": "ipython",
    "version": 3
   },
   "file_extension": ".py",
   "mimetype": "text/x-python",
   "name": "python",
   "nbconvert_exporter": "python",
   "pygments_lexer": "ipython3",
   "version": "3.7.3"
  }
 },
 "nbformat": 4,
 "nbformat_minor": 2
}

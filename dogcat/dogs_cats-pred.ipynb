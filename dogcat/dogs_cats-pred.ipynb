{
 "cells": [
  {
   "cell_type": "markdown",
   "metadata": {},
   "source": [
    "### Predicting"
   ]
  },
  {
   "cell_type": "code",
   "execution_count": 1,
   "metadata": {},
   "outputs": [
    {
     "name": "stderr",
     "output_type": "stream",
     "text": [
      "Using TensorFlow backend.\n"
     ]
    }
   ],
   "source": [
    "import os,glob\n",
    "from PIL import Image\n",
    "import numpy as np\n",
    "from keras.utils import np_utils\n",
    "from keras.models import model_from_json"
   ]
  },
  {
   "cell_type": "code",
   "execution_count": 2,
   "metadata": {},
   "outputs": [],
   "source": [
    "w=56\n",
    "work_dir=\"data/dogs_cats\"\n",
    "image_dir=work_dir+\"/original/unknown\"\n",
    "pred_dir=work_dir+\"/predicted\"\n",
    "results_base='dogs_cats-results'\n",
    "weight_file=\"dogs_cats-weight-w{0}.hd5\".format(w)\n",
    "model_file=\"dogs_cats-model-w{0}.json\".format(w)\n",
    "classes=[\"dogs\",\"cats\"]\n",
    "num_classes=len(classes)"
   ]
  },
  {
   "cell_type": "code",
   "execution_count": 3,
   "metadata": {},
   "outputs": [
    {
     "name": "stdout",
     "output_type": "stream",
     "text": [
      "WARNING:tensorflow:From C:\\Users\\Tuan\\Anaconda3\\lib\\site-packages\\tensorflow\\python\\framework\\op_def_library.py:263: colocate_with (from tensorflow.python.framework.ops) is deprecated and will be removed in a future version.\n",
      "Instructions for updating:\n",
      "Colocations handled automatically by placer.\n",
      "WARNING:tensorflow:From C:\\Users\\Tuan\\Anaconda3\\lib\\site-packages\\keras\\backend\\tensorflow_backend.py:3445: calling dropout (from tensorflow.python.ops.nn_ops) with keep_prob is deprecated and will be removed in a future version.\n",
      "Instructions for updating:\n",
      "Please use `rate` instead of `keep_prob`. Rate should be set to `rate = 1 - keep_prob`.\n"
     ]
    }
   ],
   "source": [
    "json_str=open(model_file,\"r\").read()\n",
    "model=model_from_json(json_str)\n",
    "model.compile(loss='categorical_crossentropy',optimizer='rmsprop',metrics=['accuracy'])\n",
    "model.load_weights(weight_file)"
   ]
  },
  {
   "cell_type": "code",
   "execution_count": 4,
   "metadata": {},
   "outputs": [
    {
     "name": "stdout",
     "output_type": "stream",
     "text": [
      "data/dogs_cats/predicted/0.pred_as_dogs-w56.jpg [[0.7789179  0.22108205]]\n",
      "data/dogs_cats/predicted/1.pred_as_dogs-w56.jpg [[0.5473501  0.45264992]]\n",
      "data/dogs_cats/predicted/2.pred_as_dogs-w56.jpg [[0.938122   0.06187799]]\n",
      "data/dogs_cats/predicted/3.pred_as_dogs-w56.jpg [[0.82336354 0.17663643]]\n",
      "data/dogs_cats/predicted/4.pred_as_dogs-w56.jpg [[9.999969e-01 3.112657e-06]]\n",
      "data/dogs_cats/predicted/5.pred_as_cats-w56.jpg [[0.16107787 0.83892214]]\n",
      "data/dogs_cats/predicted/6.pred_as_dogs-w56.jpg [[0.52256835 0.4774316 ]]\n",
      "data/dogs_cats/predicted/7.pred_as_cats-w56.jpg [[0.0566983 0.9433017]]\n",
      "data/dogs_cats/predicted/8.pred_as_cats-w56.jpg [[0.33884358 0.66115636]]\n",
      "data/dogs_cats/predicted/9.pred_as_cats-w56.jpg [[0.31481346 0.6851866 ]]\n",
      "OK\n"
     ]
    }
   ],
   "source": [
    "results_file='{0}-w{1}.csv'.format(results_base,w)\n",
    "res=open(results_file,'w')\n",
    "res.write(\"file,{0},{1}\\n\".format(classes[0],classes[1]))\n",
    "\n",
    "\n",
    "files=glob.glob(pred_dir+\"/*.*\")\n",
    "for f in files:\n",
    "    os.remove(f)\n",
    "\n",
    "\n",
    "files=glob.glob(image_dir+\"/*.*\")\n",
    "for f in files:\n",
    "    img=Image.open(f)\n",
    "    img=img.convert(\"RGB\")\n",
    "    img=img.resize((w,w))\n",
    "    \n",
    "    X=np.array(img).reshape(1,w,w,3).astype(\"float16\")\n",
    "    X_pred=X/255\n",
    "    \n",
    "    pred=model.predict(X_pred)\n",
    "    \n",
    "    pred_ans=pred.argmax()\n",
    "    pred_cls=classes[pred_ans]\n",
    "    tag=\"pred_as_{0}-w{1}\".format(pred_cls,w)\n",
    "    base=os.path.basename(f)\n",
    "    img_file=\"{0}/{1}.{2}.jpg\".format(pred_dir,os.path.splitext(base)[0],tag)\n",
    "    img.save(img_file)\n",
    "    print(img_file,pred)\n",
    "    res.write(\"{0},{1},{2}\\n\".format(f,pred[0][0],pred[0][1]))\n",
    "\n",
    "res.close()\n",
    "\n",
    "print(\"OK\")"
   ]
  },
  {
   "cell_type": "code",
   "execution_count": null,
   "metadata": {},
   "outputs": [],
   "source": []
  }
 ],
 "metadata": {
  "kernelspec": {
   "display_name": "Python 3",
   "language": "python",
   "name": "python3"
  },
  "language_info": {
   "codemirror_mode": {
    "name": "ipython",
    "version": 3
   },
   "file_extension": ".py",
   "mimetype": "text/x-python",
   "name": "python",
   "nbconvert_exporter": "python",
   "pygments_lexer": "ipython3",
   "version": "3.7.3"
  }
 },
 "nbformat": 4,
 "nbformat_minor": 2
}
